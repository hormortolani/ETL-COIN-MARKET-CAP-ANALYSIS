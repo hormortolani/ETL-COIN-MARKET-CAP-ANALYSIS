{
 "cells": [
  {
   "cell_type": "code",
   "execution_count": 0,
   "metadata": {
    "application/vnd.databricks.v1+cell": {
     "cellMetadata": {
      "byteLimit": 2048000,
      "rowLimit": 10000
     },
     "inputWidgets": {},
     "nuid": "2ffa02cb-dec6-4d14-9369-cb9daeb76ab7",
     "showTitle": true,
     "title": "import the necessary libraries"
    }
   },
   "outputs": [
    {
     "output_type": "display_data",
     "data": {
      "application/vnd.databricks.v1+bamboolib_hint": "{\"pd.DataFrames\": [], \"version\": \"0.0.1\"}",
      "text/plain": []
     },
     "metadata": {},
     "output_type": "display_data"
    }
   ],
   "source": [
    "import requests\n",
    "from bs4 import BeautifulSoup\n",
    "import pandas as pd\n",
    "import numpy as np\n",
    "import psycopg2\n",
    "from psycopg2 import sql\n",
    "from datetime import datetime"
   ]
  },
  {
   "cell_type": "code",
   "execution_count": 0,
   "metadata": {
    "application/vnd.databricks.v1+cell": {
     "cellMetadata": {
      "byteLimit": 2048000,
      "rowLimit": 10000
     },
     "inputWidgets": {},
     "nuid": "1be30d79-5df0-4a74-a426-57ec351be743",
     "showTitle": false,
     "title": ""
    }
   },
   "outputs": [],
   "source": [
    "def scrape_coinmarketcap():\n",
    "    # Empty lists to store the data\n",
    "    names_list = []\n",
    "    prices_list = []\n",
    "    percent_1h_list = []\n",
    "    percent_24h_list = []\n",
    "    percent_7d_list = []\n",
    "    market_caps_list = []\n",
    "    volumes_24h_list = []"
   ]
  },
  {
   "cell_type": "code",
   "execution_count": 0,
   "metadata": {
    "application/vnd.databricks.v1+cell": {
     "cellMetadata": {
      "byteLimit": 2048000,
      "rowLimit": 10000
     },
     "inputWidgets": {},
     "nuid": "2410c6f9-3d82-4819-a3c9-a0cda303da9e",
     "showTitle": true,
     "title": "webscrap from the websie"
    }
   },
   "outputs": [],
   "source": [
    "names_list = []\n",
    "prices_list = []\n",
    "percent_1h_list = []\n",
    "percent_24h_list = []\n",
    "percent_7d_list = []\n",
    "market_caps_list = []\n",
    "volumes_24h_list = []\n",
    "\n",
    "# Send request and get the response\n",
    "url = 'https://coinmarketcap.com/'\n",
    "headers = {'User-Agent': 'Mozilla/5.0 (Windows NT 10.0; Win64; x64) AppleWebKit/537.36 (KHTML, like Gecko) Chrome/96.0.4664.110 Safari/537.36'}\n",
    "response = requests.get(url, headers=headers)\n",
    "response.raise_for_status()  # Raise an error for bad responses\n",
    "\n",
    "# Parse the HTML content\n",
    "soup = BeautifulSoup(response.text, 'html.parser')\n",
    "\n",
    "# Find the table that contains the data\n",
    "table = soup.find('table', attrs={'class': 'cmc-table'})\n",
    "\n",
    "# Find all rows in the table\n",
    "rows = table.find_all('tr')\n",
    "\n",
    "# Skip the first row (header) and loop through the remaining rows\n",
    "for row in rows[1:11]:  # Limiting to the first 10 rows\n",
    "    # Extracting data from each cell in the row\n",
    "    try:\n",
    "        name_elem = row.find('p', attrs={'class': 'sc-65e7f566-0 iPbTJf coin-item-name'})\n",
    "        price_elem = row.find('div', attrs={'class': 'sc-b3fc6b7-0 dzgUIj'})\n",
    "        percent_1h_elem = row.find_all('span', attrs={'class': 'sc-a59753b0-0 cmnujh'})  # Update based on actual class names\n",
    "        percent_24h_elem = row.find_all('span', attrs={'class': 'sc-a59753b0-0 cmnujh'})  # Update based on actual class names\n",
    "        percent_7d_elem = row.find_all('span', attrs={'class': 'sc-a59753b0-0 cmnujh'})  # Update based on actual class names\n",
    "        market_cap_elem = row.find('span', attrs={'class': 'sc-11478e5d-0 chpohi'})  # Update based on actual class names\n",
    "        volume_24h_elem = row.find('p', attrs={'class': 'sc-71024e3e-0 bbHOdE font_weight_500'})  # Update based on actual class names\n",
    "\n",
    "        # Check if elements are found before accessing .text\n",
    "        name = name_elem.text.strip() if name_elem else \"N/A\"\n",
    "        price = price_elem.text.strip() if price_elem else \"N/A\"\n",
    "        percent_1h = percent_1h_elem[0].text.strip() if len(percent_1h_elem) > 0 else \"N/A\"\n",
    "        percent_24h = percent_24h_elem[1].text.strip() if len(percent_24h_elem) > 1 else \"N/A\"\n",
    "        percent_7d = percent_7d_elem[2].text.strip() if len(percent_7d_elem) > 2 else \"N/A\"\n",
    "        market_cap = market_cap_elem.text.strip() if market_cap_elem else \"N/A\"\n",
    "        volume_24h = volume_24h_elem.text.strip() if volume_24h_elem else \"N/A\"\n",
    "\n",
    "        # Append the data into lists\n",
    "        names_list.append(name)\n",
    "        prices_list.append(price)\n",
    "        percent_1h_list.append(percent_1h)\n",
    "        percent_24h_list.append(percent_24h)\n",
    "        percent_7d_list.append(percent_7d)\n",
    "        market_caps_list.append(market_cap)\n",
    "        volumes_24h_list.append(volume_24h)\n",
    "\n",
    "    except Exception as e:  # General exception handling for unexpected errors\n",
    "        print(f\"Error extracting data from row: {e}\")\n",
    "        continue\n",
    "\n",
    "# Create DataFrame\n",
    "df = pd.DataFrame({\n",
    "    'Name': names_list,\n",
    "    'Price': prices_list,\n",
    "    'Percent Change 1H': percent_1h_list,\n",
    "    'Percent Change 24H': percent_24h_list,\n",
    "    'Percent Change 7D': percent_7d_list,\n",
    "    'Market Cap': market_caps_list,\n",
    "    'Volume 24H': volumes_24h_list\n",
    "})\n",
    "\n",
    "# Replace \"N/A\" with np.nan, then fill NaN values with 0\n",
    "df.replace(\"N/A\", np.nan, inplace=True)\n",
    "df.fillna(0, inplace=True)"
   ]
  },
  {
   "cell_type": "code",
   "execution_count": 0,
   "metadata": {
    "application/vnd.databricks.v1+cell": {
     "cellMetadata": {
      "byteLimit": 2048000,
      "rowLimit": 10000
     },
     "inputWidgets": {},
     "nuid": "32eb1b6c-9ba3-4895-b4b9-e45fdca59203",
     "showTitle": false,
     "title": ""
    }
   },
   "outputs": [
    {
     "output_type": "display_data",
     "data": {
      "text/html": [
       "<div>\n",
       "<style scoped>\n",
       "    .dataframe tbody tr th:only-of-type {\n",
       "        vertical-align: middle;\n",
       "    }\n",
       "\n",
       "    .dataframe tbody tr th {\n",
       "        vertical-align: top;\n",
       "    }\n",
       "\n",
       "    .dataframe thead th {\n",
       "        text-align: right;\n",
       "    }\n",
       "</style>\n",
       "<table border=\"1\" class=\"dataframe\">\n",
       "  <thead>\n",
       "    <tr style=\"text-align: right;\">\n",
       "      <th></th>\n",
       "      <th>Name</th>\n",
       "      <th>Price</th>\n",
       "      <th>Percent Change 1H</th>\n",
       "      <th>Percent Change 24H</th>\n",
       "      <th>Percent Change 7D</th>\n",
       "      <th>Market Cap</th>\n",
       "      <th>Volume 24H</th>\n",
       "    </tr>\n",
       "  </thead>\n",
       "  <tbody>\n",
       "    <tr>\n",
       "      <th>0</th>\n",
       "      <td>Bitcoin</td>\n",
       "      <td>$64,095.59</td>\n",
       "      <td>0.63%</td>\n",
       "      <td>0.71%</td>\n",
       "      <td>2.65%</td>\n",
       "      <td>$1.27T</td>\n",
       "      <td>$24,691,829,672</td>\n",
       "    </tr>\n",
       "    <tr>\n",
       "      <th>1</th>\n",
       "      <td>Ethereum</td>\n",
       "      <td>$2,629.80</td>\n",
       "      <td>0.49%</td>\n",
       "      <td>0.11%</td>\n",
       "      <td>8.18%</td>\n",
       "      <td>$316.49B</td>\n",
       "      <td>$14,512,490,981</td>\n",
       "    </tr>\n",
       "    <tr>\n",
       "      <th>2</th>\n",
       "      <td>Tether</td>\n",
       "      <td>$0.9999</td>\n",
       "      <td>0.01%</td>\n",
       "      <td>0</td>\n",
       "      <td>0</td>\n",
       "      <td>$119.27B</td>\n",
       "      <td>$50,954,924,510</td>\n",
       "    </tr>\n",
       "    <tr>\n",
       "      <th>3</th>\n",
       "      <td>BNB</td>\n",
       "      <td>$595.49</td>\n",
       "      <td>0.26%</td>\n",
       "      <td>7.06%</td>\n",
       "      <td>0</td>\n",
       "      <td>$86.8B</td>\n",
       "      <td>$1,799,597,108</td>\n",
       "    </tr>\n",
       "    <tr>\n",
       "      <th>4</th>\n",
       "      <td>Solana</td>\n",
       "      <td>$151.32</td>\n",
       "      <td>0.49%</td>\n",
       "      <td>0.69%</td>\n",
       "      <td>8.93%</td>\n",
       "      <td>$70.94B</td>\n",
       "      <td>$1,933,071,312</td>\n",
       "    </tr>\n",
       "    <tr>\n",
       "      <th>5</th>\n",
       "      <td>USDC</td>\n",
       "      <td>$0.9999</td>\n",
       "      <td>0.00%</td>\n",
       "      <td>0.01%</td>\n",
       "      <td>0</td>\n",
       "      <td>$36.08B</td>\n",
       "      <td>$5,126,861,211</td>\n",
       "    </tr>\n",
       "    <tr>\n",
       "      <th>6</th>\n",
       "      <td>XRP</td>\n",
       "      <td>$0.589</td>\n",
       "      <td>0.35%</td>\n",
       "      <td>0.13%</td>\n",
       "      <td>0.92%</td>\n",
       "      <td>$33.28B</td>\n",
       "      <td>$1,037,832,420</td>\n",
       "    </tr>\n",
       "    <tr>\n",
       "      <th>7</th>\n",
       "      <td>Dogecoin</td>\n",
       "      <td>$0.1143</td>\n",
       "      <td>0.84%</td>\n",
       "      <td>4.92%</td>\n",
       "      <td>9.33%</td>\n",
       "      <td>$16.7B</td>\n",
       "      <td>$946,018,603</td>\n",
       "    </tr>\n",
       "    <tr>\n",
       "      <th>8</th>\n",
       "      <td>Toncoin</td>\n",
       "      <td>$5.81</td>\n",
       "      <td>0.23%</td>\n",
       "      <td>2.12%</td>\n",
       "      <td>1.09%</td>\n",
       "      <td>$14.73B</td>\n",
       "      <td>$265,943,439</td>\n",
       "    </tr>\n",
       "    <tr>\n",
       "      <th>9</th>\n",
       "      <td>Cardano</td>\n",
       "      <td>$0.3942</td>\n",
       "      <td>0.24%</td>\n",
       "      <td>2.90%</td>\n",
       "      <td>13.21%</td>\n",
       "      <td>$13.77B</td>\n",
       "      <td>$301,992,406</td>\n",
       "    </tr>\n",
       "  </tbody>\n",
       "</table>\n",
       "</div>"
      ]
     },
     "metadata": {
      "application/vnd.databricks.v1+output": {
       "addedWidgets": {},
       "arguments": {},
       "data": "<div>\n<style scoped>\n    .dataframe tbody tr th:only-of-type {\n        vertical-align: middle;\n    }\n\n    .dataframe tbody tr th {\n        vertical-align: top;\n    }\n\n    .dataframe thead th {\n        text-align: right;\n    }\n</style>\n<table border=\"1\" class=\"dataframe\">\n  <thead>\n    <tr style=\"text-align: right;\">\n      <th></th>\n      <th>Name</th>\n      <th>Price</th>\n      <th>Percent Change 1H</th>\n      <th>Percent Change 24H</th>\n      <th>Percent Change 7D</th>\n      <th>Market Cap</th>\n      <th>Volume 24H</th>\n    </tr>\n  </thead>\n  <tbody>\n    <tr>\n      <th>0</th>\n      <td>Bitcoin</td>\n      <td>$64,095.59</td>\n      <td>0.63%</td>\n      <td>0.71%</td>\n      <td>2.65%</td>\n      <td>$1.27T</td>\n      <td>$24,691,829,672</td>\n    </tr>\n    <tr>\n      <th>1</th>\n      <td>Ethereum</td>\n      <td>$2,629.80</td>\n      <td>0.49%</td>\n      <td>0.11%</td>\n      <td>8.18%</td>\n      <td>$316.49B</td>\n      <td>$14,512,490,981</td>\n    </tr>\n    <tr>\n      <th>2</th>\n      <td>Tether</td>\n      <td>$0.9999</td>\n      <td>0.01%</td>\n      <td>0</td>\n      <td>0</td>\n      <td>$119.27B</td>\n      <td>$50,954,924,510</td>\n    </tr>\n    <tr>\n      <th>3</th>\n      <td>BNB</td>\n      <td>$595.49</td>\n      <td>0.26%</td>\n      <td>7.06%</td>\n      <td>0</td>\n      <td>$86.8B</td>\n      <td>$1,799,597,108</td>\n    </tr>\n    <tr>\n      <th>4</th>\n      <td>Solana</td>\n      <td>$151.32</td>\n      <td>0.49%</td>\n      <td>0.69%</td>\n      <td>8.93%</td>\n      <td>$70.94B</td>\n      <td>$1,933,071,312</td>\n    </tr>\n    <tr>\n      <th>5</th>\n      <td>USDC</td>\n      <td>$0.9999</td>\n      <td>0.00%</td>\n      <td>0.01%</td>\n      <td>0</td>\n      <td>$36.08B</td>\n      <td>$5,126,861,211</td>\n    </tr>\n    <tr>\n      <th>6</th>\n      <td>XRP</td>\n      <td>$0.589</td>\n      <td>0.35%</td>\n      <td>0.13%</td>\n      <td>0.92%</td>\n      <td>$33.28B</td>\n      <td>$1,037,832,420</td>\n    </tr>\n    <tr>\n      <th>7</th>\n      <td>Dogecoin</td>\n      <td>$0.1143</td>\n      <td>0.84%</td>\n      <td>4.92%</td>\n      <td>9.33%</td>\n      <td>$16.7B</td>\n      <td>$946,018,603</td>\n    </tr>\n    <tr>\n      <th>8</th>\n      <td>Toncoin</td>\n      <td>$5.81</td>\n      <td>0.23%</td>\n      <td>2.12%</td>\n      <td>1.09%</td>\n      <td>$14.73B</td>\n      <td>$265,943,439</td>\n    </tr>\n    <tr>\n      <th>9</th>\n      <td>Cardano</td>\n      <td>$0.3942</td>\n      <td>0.24%</td>\n      <td>2.90%</td>\n      <td>13.21%</td>\n      <td>$13.77B</td>\n      <td>$301,992,406</td>\n    </tr>\n  </tbody>\n</table>\n</div>",
       "datasetInfos": [],
       "metadata": {},
       "removedWidgets": [],
       "textData": null,
       "type": "htmlSandbox"
      }
     },
     "output_type": "display_data"
    }
   ],
   "source": [
    "df.head(10)"
   ]
  },
  {
   "cell_type": "code",
   "execution_count": 0,
   "metadata": {
    "application/vnd.databricks.v1+cell": {
     "cellMetadata": {
      "byteLimit": 2048000,
      "rowLimit": 10000
     },
     "inputWidgets": {},
     "nuid": "aa187b17-83fe-4636-931c-a5a578d9ad1e",
     "showTitle": true,
     "title": "removing come sign inside the data"
    }
   },
   "outputs": [],
   "source": [
    "df['Price'] = df['Price'].replace({'\\$': '', ',': ''}, regex=True).astype(float)\n",
    "df['Percent Change 1H'] = df['Percent Change 1H'].replace({'%': ''}, regex=True).astype(float)\n",
    "df['Percent Change 24H'] = df['Percent Change 24H'].replace({'%': ''}, regex=True).astype(float)\n",
    "df['Percent Change 7D'] = df['Percent Change 7D'].replace({'%': ''}, regex=True).astype(float)\n",
    "df['Market Cap'] = df['Market Cap'].replace({'\\$': '', ',': '', 'T': 'e12', 'B': 'e9'}, regex=True).astype(float)\n",
    "df['Volume 24H'] = df['Volume 24H'].replace({'\\$': '', ',': ''}, regex=True).astype(float)\n",
    "\n"
   ]
  },
  {
   "cell_type": "code",
   "execution_count": 0,
   "metadata": {
    "application/vnd.databricks.v1+cell": {
     "cellMetadata": {
      "byteLimit": 2048000,
      "rowLimit": 10000
     },
     "inputWidgets": {},
     "nuid": "2165302e-64c7-4c53-876c-980e51d84feb",
     "showTitle": false,
     "title": ""
    }
   },
   "outputs": [
    {
     "output_type": "display_data",
     "data": {
      "text/html": [
       "<div>\n",
       "<style scoped>\n",
       "    .dataframe tbody tr th:only-of-type {\n",
       "        vertical-align: middle;\n",
       "    }\n",
       "\n",
       "    .dataframe tbody tr th {\n",
       "        vertical-align: top;\n",
       "    }\n",
       "\n",
       "    .dataframe thead th {\n",
       "        text-align: right;\n",
       "    }\n",
       "</style>\n",
       "<table border=\"1\" class=\"dataframe\">\n",
       "  <thead>\n",
       "    <tr style=\"text-align: right;\">\n",
       "      <th></th>\n",
       "      <th>Name</th>\n",
       "      <th>Price</th>\n",
       "      <th>Percent Change 1H</th>\n",
       "      <th>Percent Change 24H</th>\n",
       "      <th>Percent Change 7D</th>\n",
       "      <th>Market Cap</th>\n",
       "      <th>Volume 24H</th>\n",
       "    </tr>\n",
       "  </thead>\n",
       "  <tbody>\n",
       "    <tr>\n",
       "      <th>0</th>\n",
       "      <td>Bitcoin</td>\n",
       "      <td>64095.5900</td>\n",
       "      <td>0.63</td>\n",
       "      <td>0.71</td>\n",
       "      <td>2.65</td>\n",
       "      <td>1.270000e+12</td>\n",
       "      <td>2.469183e+10</td>\n",
       "    </tr>\n",
       "    <tr>\n",
       "      <th>1</th>\n",
       "      <td>Ethereum</td>\n",
       "      <td>2629.8000</td>\n",
       "      <td>0.49</td>\n",
       "      <td>0.11</td>\n",
       "      <td>8.18</td>\n",
       "      <td>3.164900e+11</td>\n",
       "      <td>1.451249e+10</td>\n",
       "    </tr>\n",
       "    <tr>\n",
       "      <th>2</th>\n",
       "      <td>Tether</td>\n",
       "      <td>0.9999</td>\n",
       "      <td>0.01</td>\n",
       "      <td>0.00</td>\n",
       "      <td>0.00</td>\n",
       "      <td>1.192700e+11</td>\n",
       "      <td>5.095492e+10</td>\n",
       "    </tr>\n",
       "    <tr>\n",
       "      <th>3</th>\n",
       "      <td>BNB</td>\n",
       "      <td>595.4900</td>\n",
       "      <td>0.26</td>\n",
       "      <td>7.06</td>\n",
       "      <td>0.00</td>\n",
       "      <td>8.680000e+10</td>\n",
       "      <td>1.799597e+09</td>\n",
       "    </tr>\n",
       "    <tr>\n",
       "      <th>4</th>\n",
       "      <td>Solana</td>\n",
       "      <td>151.3200</td>\n",
       "      <td>0.49</td>\n",
       "      <td>0.69</td>\n",
       "      <td>8.93</td>\n",
       "      <td>7.094000e+10</td>\n",
       "      <td>1.933071e+09</td>\n",
       "    </tr>\n",
       "  </tbody>\n",
       "</table>\n",
       "</div>"
      ]
     },
     "metadata": {
      "application/vnd.databricks.v1+output": {
       "addedWidgets": {},
       "arguments": {},
       "data": "<div>\n<style scoped>\n    .dataframe tbody tr th:only-of-type {\n        vertical-align: middle;\n    }\n\n    .dataframe tbody tr th {\n        vertical-align: top;\n    }\n\n    .dataframe thead th {\n        text-align: right;\n    }\n</style>\n<table border=\"1\" class=\"dataframe\">\n  <thead>\n    <tr style=\"text-align: right;\">\n      <th></th>\n      <th>Name</th>\n      <th>Price</th>\n      <th>Percent Change 1H</th>\n      <th>Percent Change 24H</th>\n      <th>Percent Change 7D</th>\n      <th>Market Cap</th>\n      <th>Volume 24H</th>\n    </tr>\n  </thead>\n  <tbody>\n    <tr>\n      <th>0</th>\n      <td>Bitcoin</td>\n      <td>64095.5900</td>\n      <td>0.63</td>\n      <td>0.71</td>\n      <td>2.65</td>\n      <td>1.270000e+12</td>\n      <td>2.469183e+10</td>\n    </tr>\n    <tr>\n      <th>1</th>\n      <td>Ethereum</td>\n      <td>2629.8000</td>\n      <td>0.49</td>\n      <td>0.11</td>\n      <td>8.18</td>\n      <td>3.164900e+11</td>\n      <td>1.451249e+10</td>\n    </tr>\n    <tr>\n      <th>2</th>\n      <td>Tether</td>\n      <td>0.9999</td>\n      <td>0.01</td>\n      <td>0.00</td>\n      <td>0.00</td>\n      <td>1.192700e+11</td>\n      <td>5.095492e+10</td>\n    </tr>\n    <tr>\n      <th>3</th>\n      <td>BNB</td>\n      <td>595.4900</td>\n      <td>0.26</td>\n      <td>7.06</td>\n      <td>0.00</td>\n      <td>8.680000e+10</td>\n      <td>1.799597e+09</td>\n    </tr>\n    <tr>\n      <th>4</th>\n      <td>Solana</td>\n      <td>151.3200</td>\n      <td>0.49</td>\n      <td>0.69</td>\n      <td>8.93</td>\n      <td>7.094000e+10</td>\n      <td>1.933071e+09</td>\n    </tr>\n  </tbody>\n</table>\n</div>",
       "datasetInfos": [],
       "metadata": {},
       "removedWidgets": [],
       "textData": null,
       "type": "htmlSandbox"
      }
     },
     "output_type": "display_data"
    }
   ],
   "source": [
    "# Display the cleaned DataFrame\n",
    "df.head()"
   ]
  },
  {
   "cell_type": "code",
   "execution_count": 0,
   "metadata": {
    "application/vnd.databricks.v1+cell": {
     "cellMetadata": {
      "byteLimit": 2048000,
      "rowLimit": 10000
     },
     "inputWidgets": {},
     "nuid": "f53d0bcc-c3aa-45ab-a013-1dee7227ee38",
     "showTitle": true,
     "title": "renaming the columns"
    }
   },
   "outputs": [],
   "source": [
    "df.rename(columns={\"Price\": \"Price($)\"}, inplace=True)\n",
    "df.rename(columns={\"Market Cap\": \"Market Cap($)\"}, inplace=True)\n",
    "df.rename(columns={\"Volume 24H\": \"Volume 24H($)\"}, inplace=True)"
   ]
  },
  {
   "cell_type": "code",
   "execution_count": 0,
   "metadata": {
    "application/vnd.databricks.v1+cell": {
     "cellMetadata": {
      "byteLimit": 2048000,
      "rowLimit": 10000
     },
     "inputWidgets": {},
     "nuid": "db0186e7-a733-4a3c-9b0e-77b46bd9e786",
     "showTitle": false,
     "title": ""
    }
   },
   "outputs": [
    {
     "output_type": "display_data",
     "data": {
      "text/html": [
       "<div>\n",
       "<style scoped>\n",
       "    .dataframe tbody tr th:only-of-type {\n",
       "        vertical-align: middle;\n",
       "    }\n",
       "\n",
       "    .dataframe tbody tr th {\n",
       "        vertical-align: top;\n",
       "    }\n",
       "\n",
       "    .dataframe thead th {\n",
       "        text-align: right;\n",
       "    }\n",
       "</style>\n",
       "<table border=\"1\" class=\"dataframe\">\n",
       "  <thead>\n",
       "    <tr style=\"text-align: right;\">\n",
       "      <th></th>\n",
       "      <th>Name</th>\n",
       "      <th>Price($)</th>\n",
       "      <th>Percent Change 1H</th>\n",
       "      <th>Percent Change 24H</th>\n",
       "      <th>Percent Change 7D</th>\n",
       "      <th>Market Cap($)</th>\n",
       "      <th>Volume 24H($)</th>\n",
       "    </tr>\n",
       "  </thead>\n",
       "  <tbody>\n",
       "    <tr>\n",
       "      <th>0</th>\n",
       "      <td>Bitcoin</td>\n",
       "      <td>64095.5900</td>\n",
       "      <td>0.63</td>\n",
       "      <td>0.71</td>\n",
       "      <td>2.65</td>\n",
       "      <td>1.270000e+12</td>\n",
       "      <td>2.469183e+10</td>\n",
       "    </tr>\n",
       "    <tr>\n",
       "      <th>1</th>\n",
       "      <td>Ethereum</td>\n",
       "      <td>2629.8000</td>\n",
       "      <td>0.49</td>\n",
       "      <td>0.11</td>\n",
       "      <td>8.18</td>\n",
       "      <td>3.164900e+11</td>\n",
       "      <td>1.451249e+10</td>\n",
       "    </tr>\n",
       "    <tr>\n",
       "      <th>2</th>\n",
       "      <td>Tether</td>\n",
       "      <td>0.9999</td>\n",
       "      <td>0.01</td>\n",
       "      <td>0.00</td>\n",
       "      <td>0.00</td>\n",
       "      <td>1.192700e+11</td>\n",
       "      <td>5.095492e+10</td>\n",
       "    </tr>\n",
       "    <tr>\n",
       "      <th>3</th>\n",
       "      <td>BNB</td>\n",
       "      <td>595.4900</td>\n",
       "      <td>0.26</td>\n",
       "      <td>7.06</td>\n",
       "      <td>0.00</td>\n",
       "      <td>8.680000e+10</td>\n",
       "      <td>1.799597e+09</td>\n",
       "    </tr>\n",
       "    <tr>\n",
       "      <th>4</th>\n",
       "      <td>Solana</td>\n",
       "      <td>151.3200</td>\n",
       "      <td>0.49</td>\n",
       "      <td>0.69</td>\n",
       "      <td>8.93</td>\n",
       "      <td>7.094000e+10</td>\n",
       "      <td>1.933071e+09</td>\n",
       "    </tr>\n",
       "  </tbody>\n",
       "</table>\n",
       "</div>"
      ]
     },
     "metadata": {
      "application/vnd.databricks.v1+output": {
       "addedWidgets": {},
       "arguments": {},
       "data": "<div>\n<style scoped>\n    .dataframe tbody tr th:only-of-type {\n        vertical-align: middle;\n    }\n\n    .dataframe tbody tr th {\n        vertical-align: top;\n    }\n\n    .dataframe thead th {\n        text-align: right;\n    }\n</style>\n<table border=\"1\" class=\"dataframe\">\n  <thead>\n    <tr style=\"text-align: right;\">\n      <th></th>\n      <th>Name</th>\n      <th>Price($)</th>\n      <th>Percent Change 1H</th>\n      <th>Percent Change 24H</th>\n      <th>Percent Change 7D</th>\n      <th>Market Cap($)</th>\n      <th>Volume 24H($)</th>\n    </tr>\n  </thead>\n  <tbody>\n    <tr>\n      <th>0</th>\n      <td>Bitcoin</td>\n      <td>64095.5900</td>\n      <td>0.63</td>\n      <td>0.71</td>\n      <td>2.65</td>\n      <td>1.270000e+12</td>\n      <td>2.469183e+10</td>\n    </tr>\n    <tr>\n      <th>1</th>\n      <td>Ethereum</td>\n      <td>2629.8000</td>\n      <td>0.49</td>\n      <td>0.11</td>\n      <td>8.18</td>\n      <td>3.164900e+11</td>\n      <td>1.451249e+10</td>\n    </tr>\n    <tr>\n      <th>2</th>\n      <td>Tether</td>\n      <td>0.9999</td>\n      <td>0.01</td>\n      <td>0.00</td>\n      <td>0.00</td>\n      <td>1.192700e+11</td>\n      <td>5.095492e+10</td>\n    </tr>\n    <tr>\n      <th>3</th>\n      <td>BNB</td>\n      <td>595.4900</td>\n      <td>0.26</td>\n      <td>7.06</td>\n      <td>0.00</td>\n      <td>8.680000e+10</td>\n      <td>1.799597e+09</td>\n    </tr>\n    <tr>\n      <th>4</th>\n      <td>Solana</td>\n      <td>151.3200</td>\n      <td>0.49</td>\n      <td>0.69</td>\n      <td>8.93</td>\n      <td>7.094000e+10</td>\n      <td>1.933071e+09</td>\n    </tr>\n  </tbody>\n</table>\n</div>",
       "datasetInfos": [],
       "metadata": {},
       "removedWidgets": [],
       "textData": null,
       "type": "htmlSandbox"
      }
     },
     "output_type": "display_data"
    }
   ],
   "source": [
    "df.head()"
   ]
  },
  {
   "cell_type": "code",
   "execution_count": 0,
   "metadata": {
    "application/vnd.databricks.v1+cell": {
     "cellMetadata": {
      "byteLimit": 2048000,
      "rowLimit": 10000
     },
     "inputWidgets": {},
     "nuid": "53b379e1-45a5-4614-b9db-9ed1f8c05cf4",
     "showTitle": true,
     "title": "checking the datypes of the dataset"
    }
   },
   "outputs": [
    {
     "output_type": "stream",
     "name": "stdout",
     "output_type": "stream",
     "text": [
      "<class 'pandas.core.frame.DataFrame'>\nRangeIndex: 10 entries, 0 to 9\nData columns (total 7 columns):\n #   Column              Non-Null Count  Dtype  \n---  ------              --------------  -----  \n 0   Name                10 non-null     object \n 1   Price($)            10 non-null     float64\n 2   Percent Change 1H   10 non-null     float64\n 3   Percent Change 24H  10 non-null     float64\n 4   Percent Change 7D   10 non-null     float64\n 5   Market Cap($)       10 non-null     float64\n 6   Volume 24H($)       10 non-null     float64\ndtypes: float64(6), object(1)\nmemory usage: 688.0+ bytes\n"
     ]
    }
   ],
   "source": [
    "df.info()"
   ]
  },
  {
   "cell_type": "code",
   "execution_count": 0,
   "metadata": {
    "application/vnd.databricks.v1+cell": {
     "cellMetadata": {
      "byteLimit": 2048000,
      "rowLimit": 10000
     },
     "inputWidgets": {},
     "nuid": "02de3329-12d1-41b0-af0b-a0e11546284b",
     "showTitle": false,
     "title": ""
    }
   },
   "outputs": [
    {
     "output_type": "display_data",
     "data": {
      "text/html": [
       "<div>\n",
       "<style scoped>\n",
       "    .dataframe tbody tr th:only-of-type {\n",
       "        vertical-align: middle;\n",
       "    }\n",
       "\n",
       "    .dataframe tbody tr th {\n",
       "        vertical-align: top;\n",
       "    }\n",
       "\n",
       "    .dataframe thead th {\n",
       "        text-align: right;\n",
       "    }\n",
       "</style>\n",
       "<table border=\"1\" class=\"dataframe\">\n",
       "  <thead>\n",
       "    <tr style=\"text-align: right;\">\n",
       "      <th></th>\n",
       "      <th>Name</th>\n",
       "      <th>Price($)</th>\n",
       "      <th>Percent Change 1H</th>\n",
       "      <th>Percent Change 24H</th>\n",
       "      <th>Percent Change 7D</th>\n",
       "      <th>Market Cap($)</th>\n",
       "      <th>Volume 24H($)</th>\n",
       "    </tr>\n",
       "  </thead>\n",
       "  <tbody>\n",
       "    <tr>\n",
       "      <th>0</th>\n",
       "      <td>Bitcoin</td>\n",
       "      <td>64095.5900</td>\n",
       "      <td>0.63</td>\n",
       "      <td>0.71</td>\n",
       "      <td>2.65</td>\n",
       "      <td>1.270000e+12</td>\n",
       "      <td>2.469183e+10</td>\n",
       "    </tr>\n",
       "    <tr>\n",
       "      <th>1</th>\n",
       "      <td>Ethereum</td>\n",
       "      <td>2629.8000</td>\n",
       "      <td>0.49</td>\n",
       "      <td>0.11</td>\n",
       "      <td>8.18</td>\n",
       "      <td>3.164900e+11</td>\n",
       "      <td>1.451249e+10</td>\n",
       "    </tr>\n",
       "    <tr>\n",
       "      <th>2</th>\n",
       "      <td>Tether</td>\n",
       "      <td>0.9999</td>\n",
       "      <td>0.01</td>\n",
       "      <td>0.00</td>\n",
       "      <td>0.00</td>\n",
       "      <td>1.192700e+11</td>\n",
       "      <td>5.095492e+10</td>\n",
       "    </tr>\n",
       "    <tr>\n",
       "      <th>3</th>\n",
       "      <td>BNB</td>\n",
       "      <td>595.4900</td>\n",
       "      <td>0.26</td>\n",
       "      <td>7.06</td>\n",
       "      <td>0.00</td>\n",
       "      <td>8.680000e+10</td>\n",
       "      <td>1.799597e+09</td>\n",
       "    </tr>\n",
       "    <tr>\n",
       "      <th>4</th>\n",
       "      <td>Solana</td>\n",
       "      <td>151.3200</td>\n",
       "      <td>0.49</td>\n",
       "      <td>0.69</td>\n",
       "      <td>8.93</td>\n",
       "      <td>7.094000e+10</td>\n",
       "      <td>1.933071e+09</td>\n",
       "    </tr>\n",
       "  </tbody>\n",
       "</table>\n",
       "</div>"
      ]
     },
     "metadata": {
      "application/vnd.databricks.v1+output": {
       "addedWidgets": {},
       "arguments": {},
       "data": "<div>\n<style scoped>\n    .dataframe tbody tr th:only-of-type {\n        vertical-align: middle;\n    }\n\n    .dataframe tbody tr th {\n        vertical-align: top;\n    }\n\n    .dataframe thead th {\n        text-align: right;\n    }\n</style>\n<table border=\"1\" class=\"dataframe\">\n  <thead>\n    <tr style=\"text-align: right;\">\n      <th></th>\n      <th>Name</th>\n      <th>Price($)</th>\n      <th>Percent Change 1H</th>\n      <th>Percent Change 24H</th>\n      <th>Percent Change 7D</th>\n      <th>Market Cap($)</th>\n      <th>Volume 24H($)</th>\n    </tr>\n  </thead>\n  <tbody>\n    <tr>\n      <th>0</th>\n      <td>Bitcoin</td>\n      <td>64095.5900</td>\n      <td>0.63</td>\n      <td>0.71</td>\n      <td>2.65</td>\n      <td>1.270000e+12</td>\n      <td>2.469183e+10</td>\n    </tr>\n    <tr>\n      <th>1</th>\n      <td>Ethereum</td>\n      <td>2629.8000</td>\n      <td>0.49</td>\n      <td>0.11</td>\n      <td>8.18</td>\n      <td>3.164900e+11</td>\n      <td>1.451249e+10</td>\n    </tr>\n    <tr>\n      <th>2</th>\n      <td>Tether</td>\n      <td>0.9999</td>\n      <td>0.01</td>\n      <td>0.00</td>\n      <td>0.00</td>\n      <td>1.192700e+11</td>\n      <td>5.095492e+10</td>\n    </tr>\n    <tr>\n      <th>3</th>\n      <td>BNB</td>\n      <td>595.4900</td>\n      <td>0.26</td>\n      <td>7.06</td>\n      <td>0.00</td>\n      <td>8.680000e+10</td>\n      <td>1.799597e+09</td>\n    </tr>\n    <tr>\n      <th>4</th>\n      <td>Solana</td>\n      <td>151.3200</td>\n      <td>0.49</td>\n      <td>0.69</td>\n      <td>8.93</td>\n      <td>7.094000e+10</td>\n      <td>1.933071e+09</td>\n    </tr>\n  </tbody>\n</table>\n</div>",
       "datasetInfos": [],
       "metadata": {},
       "removedWidgets": [],
       "textData": null,
       "type": "htmlSandbox"
      }
     },
     "output_type": "display_data"
    }
   ],
   "source": [
    "df.head()"
   ]
  },
  {
   "cell_type": "code",
   "execution_count": 0,
   "metadata": {
    "application/vnd.databricks.v1+cell": {
     "cellMetadata": {
      "byteLimit": 2048000,
      "rowLimit": 10000
     },
     "inputWidgets": {},
     "nuid": "3132bcdc-6689-4fc9-bc05-00b3b925df66",
     "showTitle": false,
     "title": ""
    }
   },
   "outputs": [],
   "source": [
    "import pyspark\n",
    "from pyspark.sql import SparkSession\n",
    "from pyspark.sql.types import StructType, StructField, StringType, FloatType, IntegerType\n",
    "from pyspark.sql.functions import col, regexp_replace, sum, avg\n",
    "from pyspark.sql.functions import *\n"
   ]
  },
  {
   "cell_type": "code",
   "execution_count": 0,
   "metadata": {
    "application/vnd.databricks.v1+cell": {
     "cellMetadata": {
      "byteLimit": 2048000,
      "rowLimit": 10000
     },
     "inputWidgets": {},
     "nuid": "92c18218-8e8c-4c5f-9738-0ae81142dabc",
     "showTitle": false,
     "title": ""
    }
   },
   "outputs": [],
   "source": [
    "spark = SparkSession.builder.appName(\"coinmarketcap\").getOrCreate()"
   ]
  },
  {
   "cell_type": "code",
   "execution_count": 0,
   "metadata": {
    "application/vnd.databricks.v1+cell": {
     "cellMetadata": {
      "byteLimit": 2048000,
      "rowLimit": 10000
     },
     "inputWidgets": {},
     "nuid": "d6f6f53e-0c60-4288-b584-b69739956de6",
     "showTitle": false,
     "title": ""
    }
   },
   "outputs": [],
   "source": [
    "data = pd.DataFrame(df)\n",
    "spark_df = spark.createDataFrame(data)"
   ]
  },
  {
   "cell_type": "code",
   "execution_count": 0,
   "metadata": {
    "application/vnd.databricks.v1+cell": {
     "cellMetadata": {
      "byteLimit": 2048000,
      "rowLimit": 10000
     },
     "inputWidgets": {},
     "nuid": "1734a677-764c-493a-9192-ffb9756c3625",
     "showTitle": false,
     "title": ""
    }
   },
   "outputs": [],
   "source": [
    "# Register as a SQL temporary view\n",
    "spark_df.createOrReplaceTempView(\"coinmarketcap\")"
   ]
  },
  {
   "cell_type": "code",
   "execution_count": 0,
   "metadata": {
    "application/vnd.databricks.v1+cell": {
     "cellMetadata": {
      "byteLimit": 2048000,
      "implicitDf": true,
      "rowLimit": 10000
     },
     "inputWidgets": {},
     "nuid": "a4077249-ecd3-4da6-8305-65614de1175d",
     "showTitle": false,
     "title": ""
    }
   },
   "outputs": [
    {
     "output_type": "stream",
     "name": "stdout",
     "output_type": "stream",
     "text": [
      "+--------+--------+-----------------+------------------+-----------------+-------------+---------------+\n|    Name|Price($)|Percent Change 1H|Percent Change 24H|Percent Change 7D|Market Cap($)|  Volume 24H($)|\n+--------+--------+-----------------+------------------+-----------------+-------------+---------------+\n| Bitcoin|64095.59|             0.63|              0.71|             2.65|      1.27E12|2.4691829672E10|\n|Ethereum|  2629.8|             0.49|              0.11|             8.18|    3.1649E11|1.4512490981E10|\n|  Tether|  0.9999|             0.01|               0.0|              0.0|    1.1927E11| 5.095492451E10|\n|     BNB|  595.49|             0.26|              7.06|              0.0|      8.68E10|  1.799597108E9|\n|  Solana|  151.32|             0.49|              0.69|             8.93|     7.094E10|  1.933071312E9|\n|    USDC|  0.9999|              0.0|              0.01|              0.0|     3.608E10|  5.126861211E9|\n|     XRP|   0.589|             0.35|              0.13|             0.92|     3.328E10|   1.03783242E9|\n|Dogecoin|  0.1143|             0.84|              4.92|             9.33|      1.67E10|   9.46018603E8|\n| Toncoin|    5.81|             0.23|              2.12|             1.09|     1.473E10|   2.65943439E8|\n| Cardano|  0.3942|             0.24|               2.9|            13.21|     1.377E10|   3.01992406E8|\n+--------+--------+-----------------+------------------+-----------------+-------------+---------------+\n\n"
     ]
    }
   ],
   "source": [
    "result = spark.sql(\"SELECT * FROM coinmarketcap LIMIT 10\")\n",
    "result.show()"
   ]
  },
  {
   "cell_type": "code",
   "execution_count": 0,
   "metadata": {
    "application/vnd.databricks.v1+cell": {
     "cellMetadata": {
      "byteLimit": 2048000,
      "rowLimit": 10000
     },
     "inputWidgets": {},
     "nuid": "06e4219a-f683-4004-96f2-7b2d77a67f1a",
     "showTitle": false,
     "title": ""
    }
   },
   "outputs": [
    {
     "output_type": "stream",
     "name": "stdout",
     "output_type": "stream",
     "text": [
      "+------------------+---------+-------+\n|          col_name|data_type|comment|\n+------------------+---------+-------+\n|              Name|   string|   null|\n|          Price($)|   double|   null|\n| Percent Change 1H|   double|   null|\n|Percent Change 24H|   double|   null|\n| Percent Change 7D|   double|   null|\n|     Market Cap($)|   double|   null|\n|     Volume 24H($)|   double|   null|\n+------------------+---------+-------+\n\n"
     ]
    }
   ],
   "source": [
    "spark.sql(\"DESCRIBE coinmarketcap\").show()\n"
   ]
  },
  {
   "cell_type": "code",
   "execution_count": 0,
   "metadata": {
    "application/vnd.databricks.v1+cell": {
     "cellMetadata": {
      "byteLimit": 2048000,
      "implicitDf": true,
      "rowLimit": 10000
     },
     "inputWidgets": {},
     "nuid": "f165a896-13ae-475f-9a66-ea6f4fdd982e",
     "showTitle": true,
     "title": "Find the Top 3 Cryptocurrencies by Market Cap sql"
    }
   },
   "outputs": [
    {
     "output_type": "display_data",
     "data": {
      "text/html": [
       "<style scoped>\n",
       "  .table-result-container {\n",
       "    max-height: 300px;\n",
       "    overflow: auto;\n",
       "  }\n",
       "  table, th, td {\n",
       "    border: 1px solid black;\n",
       "    border-collapse: collapse;\n",
       "  }\n",
       "  th, td {\n",
       "    padding: 5px;\n",
       "  }\n",
       "  th {\n",
       "    text-align: left;\n",
       "  }\n",
       "</style><div class='table-result-container'><table class='table-result'><thead style='background-color: white'><tr><th>Name</th><th>Market Cap($)</th></tr></thead><tbody><tr><td>Bitcoin</td><td>Market Cap($)</td></tr><tr><td>Ethereum</td><td>Market Cap($)</td></tr><tr><td>Tether</td><td>Market Cap($)</td></tr></tbody></table></div>"
      ]
     },
     "metadata": {
      "application/vnd.databricks.v1+output": {
       "addedWidgets": {},
       "aggData": [],
       "aggError": "",
       "aggOverflow": false,
       "aggSchema": [],
       "aggSeriesLimitReached": false,
       "aggType": "",
       "arguments": {},
       "columnCustomDisplayInfos": {},
       "data": [
        [
         "Bitcoin",
         "Market Cap($)"
        ],
        [
         "Ethereum",
         "Market Cap($)"
        ],
        [
         "Tether",
         "Market Cap($)"
        ]
       ],
       "datasetInfos": [],
       "dbfsResultPath": null,
       "isJsonSchema": true,
       "metadata": {},
       "overflow": false,
       "plotOptions": {
        "customPlotOptions": {},
        "displayType": "table",
        "pivotAggregation": null,
        "pivotColumns": null,
        "xColumns": null,
        "yColumns": null
       },
       "removedWidgets": [],
       "schema": [
        {
         "metadata": "{}",
         "name": "Name",
         "type": "\"string\""
        },
        {
         "metadata": "{}",
         "name": "Market Cap($)",
         "type": "\"string\""
        }
       ],
       "type": "table"
      }
     },
     "output_type": "display_data"
    }
   ],
   "source": [
    "%sql\n",
    "SELECT Name, \"Market Cap($)\"\n",
    "FROM coinmarketcap\n",
    "ORDER BY \"Market Cap($)\" DESC\n",
    "LIMIT 3;\n"
   ]
  },
  {
   "cell_type": "code",
   "execution_count": 0,
   "metadata": {
    "application/vnd.databricks.v1+cell": {
     "cellMetadata": {
      "byteLimit": 2048000,
      "implicitDf": true,
      "rowLimit": 10000
     },
     "inputWidgets": {},
     "nuid": "e3ca9887-48a3-4551-9d72-8b5b2d58e7ef",
     "showTitle": true,
     "title": "Calculate the Average Percent Change in 24 Hours"
    }
   },
   "outputs": [
    {
     "output_type": "display_data",
     "data": {
      "text/html": [
       "<style scoped>\n",
       "  .table-result-container {\n",
       "    max-height: 300px;\n",
       "    overflow: auto;\n",
       "  }\n",
       "  table, th, td {\n",
       "    border: 1px solid black;\n",
       "    border-collapse: collapse;\n",
       "  }\n",
       "  th, td {\n",
       "    padding: 5px;\n",
       "  }\n",
       "  th {\n",
       "    text-align: left;\n",
       "  }\n",
       "</style><div class='table-result-container'><table class='table-result'><thead style='background-color: white'><tr><th>Average Percent Change 24H</th></tr></thead><tbody><tr><td>1.8649999999999998</td></tr></tbody></table></div>"
      ]
     },
     "metadata": {
      "application/vnd.databricks.v1+output": {
       "addedWidgets": {},
       "aggData": [],
       "aggError": "",
       "aggOverflow": false,
       "aggSchema": [],
       "aggSeriesLimitReached": false,
       "aggType": "",
       "arguments": {},
       "columnCustomDisplayInfos": {},
       "data": [
        [
         1.8649999999999998
        ]
       ],
       "datasetInfos": [],
       "dbfsResultPath": null,
       "isJsonSchema": true,
       "metadata": {},
       "overflow": false,
       "plotOptions": {
        "customPlotOptions": {},
        "displayType": "table",
        "pivotAggregation": null,
        "pivotColumns": null,
        "xColumns": null,
        "yColumns": null
       },
       "removedWidgets": [],
       "schema": [
        {
         "metadata": "{}",
         "name": "Average Percent Change 24H",
         "type": "\"double\""
        }
       ],
       "type": "table"
      }
     },
     "output_type": "display_data"
    }
   ],
   "source": [
    "%sql\n",
    "SELECT AVG(`Percent Change 24H`) AS `Average Percent Change 24H`\n",
    "FROM coinmarketcap;"
   ]
  },
  {
   "cell_type": "code",
   "execution_count": 0,
   "metadata": {
    "application/vnd.databricks.v1+cell": {
     "cellMetadata": {
      "byteLimit": 2048000,
      "implicitDf": true,
      "rowLimit": 10000
     },
     "inputWidgets": {},
     "nuid": "64cb9eae-385a-4d21-8ae4-2661e39b1903",
     "showTitle": true,
     "title": "Calculate the Total Market Cap of Cryptocurrencies with Volume Greater Than $1 Billion in the Last 24 Hours"
    }
   },
   "outputs": [
    {
     "output_type": "display_data",
     "data": {
      "text/html": [
       "<style scoped>\n",
       "  .table-result-container {\n",
       "    max-height: 300px;\n",
       "    overflow: auto;\n",
       "  }\n",
       "  table, th, td {\n",
       "    border: 1px solid black;\n",
       "    border-collapse: collapse;\n",
       "  }\n",
       "  th, td {\n",
       "    padding: 5px;\n",
       "  }\n",
       "  th {\n",
       "    text-align: left;\n",
       "  }\n",
       "</style><div class='table-result-container'><table class='table-result'><thead style='background-color: white'><tr><th>Total Market Cap</th></tr></thead><tbody><tr><td>1.93286E12</td></tr></tbody></table></div>"
      ]
     },
     "metadata": {
      "application/vnd.databricks.v1+output": {
       "addedWidgets": {},
       "aggData": [],
       "aggError": "",
       "aggOverflow": false,
       "aggSchema": [],
       "aggSeriesLimitReached": false,
       "aggType": "",
       "arguments": {},
       "columnCustomDisplayInfos": {},
       "data": [
        [
         1.93286E12
        ]
       ],
       "datasetInfos": [],
       "dbfsResultPath": null,
       "isJsonSchema": true,
       "metadata": {},
       "overflow": false,
       "plotOptions": {
        "customPlotOptions": {},
        "displayType": "table",
        "pivotAggregation": null,
        "pivotColumns": null,
        "xColumns": null,
        "yColumns": null
       },
       "removedWidgets": [],
       "schema": [
        {
         "metadata": "{}",
         "name": "Total Market Cap",
         "type": "\"double\""
        }
       ],
       "type": "table"
      }
     },
     "output_type": "display_data"
    }
   ],
   "source": [
    "%sql\n",
    "SELECT SUM(`Market Cap($)`) AS `Total Market Cap`\n",
    "FROM coinmarketcap\n",
    "WHERE `Volume 24H($)` > 1e9"
   ]
  },
  {
   "cell_type": "code",
   "execution_count": 0,
   "metadata": {
    "application/vnd.databricks.v1+cell": {
     "cellMetadata": {
      "byteLimit": 2048000,
      "implicitDf": true,
      "rowLimit": 10000
     },
     "inputWidgets": {},
     "nuid": "dd367fe7-e95b-424a-9351-b150520439de",
     "showTitle": true,
     "title": "Find the Cryptocurrency with the Highest Price"
    }
   },
   "outputs": [
    {
     "output_type": "display_data",
     "data": {
      "text/html": [
       "<style scoped>\n",
       "  .table-result-container {\n",
       "    max-height: 300px;\n",
       "    overflow: auto;\n",
       "  }\n",
       "  table, th, td {\n",
       "    border: 1px solid black;\n",
       "    border-collapse: collapse;\n",
       "  }\n",
       "  th, td {\n",
       "    padding: 5px;\n",
       "  }\n",
       "  th {\n",
       "    text-align: left;\n",
       "  }\n",
       "</style><div class='table-result-container'><table class='table-result'><thead style='background-color: white'><tr><th>Name</th><th>Price($)</th></tr></thead><tbody><tr><td>Bitcoin</td><td>64095.59</td></tr></tbody></table></div>"
      ]
     },
     "metadata": {
      "application/vnd.databricks.v1+output": {
       "addedWidgets": {},
       "aggData": [],
       "aggError": "",
       "aggOverflow": false,
       "aggSchema": [],
       "aggSeriesLimitReached": false,
       "aggType": "",
       "arguments": {},
       "columnCustomDisplayInfos": {},
       "data": [
        [
         "Bitcoin",
         64095.59
        ]
       ],
       "datasetInfos": [],
       "dbfsResultPath": null,
       "isJsonSchema": true,
       "metadata": {},
       "overflow": false,
       "plotOptions": {
        "customPlotOptions": {},
        "displayType": "table",
        "pivotAggregation": null,
        "pivotColumns": null,
        "xColumns": null,
        "yColumns": null
       },
       "removedWidgets": [],
       "schema": [
        {
         "metadata": "{}",
         "name": "Name",
         "type": "\"string\""
        },
        {
         "metadata": "{}",
         "name": "Price($)",
         "type": "\"double\""
        }
       ],
       "type": "table"
      }
     },
     "output_type": "display_data"
    }
   ],
   "source": [
    "%sql\n",
    "SELECT Name, `Price($)`\n",
    "FROM coinmarketcap\n",
    "ORDER BY `Price($)` DESC\n",
    "LIMIT 1;"
   ]
  },
  {
   "cell_type": "code",
   "execution_count": 0,
   "metadata": {
    "application/vnd.databricks.v1+cell": {
     "cellMetadata": {
      "byteLimit": 2048000,
      "implicitDf": true,
      "rowLimit": 10000
     },
     "inputWidgets": {},
     "nuid": "a6c7a79b-6c71-4d38-ac3c-13efaa12c373",
     "showTitle": true,
     "title": "Find Cryptocurrencies with Price Increases in Both the Last Hour and Last 24 Hours"
    }
   },
   "outputs": [
    {
     "output_type": "display_data",
     "data": {
      "text/html": [
       "<style scoped>\n",
       "  .table-result-container {\n",
       "    max-height: 300px;\n",
       "    overflow: auto;\n",
       "  }\n",
       "  table, th, td {\n",
       "    border: 1px solid black;\n",
       "    border-collapse: collapse;\n",
       "  }\n",
       "  th, td {\n",
       "    padding: 5px;\n",
       "  }\n",
       "  th {\n",
       "    text-align: left;\n",
       "  }\n",
       "</style><div class='table-result-container'><table class='table-result'><thead style='background-color: white'><tr><th>Name</th><th>Percent Change 1H</th><th>Percent Change 24H</th></tr></thead><tbody></tbody></table></div>"
      ]
     },
     "metadata": {
      "application/vnd.databricks.v1+output": {
       "addedWidgets": {},
       "aggData": [],
       "aggError": "",
       "aggOverflow": false,
       "aggSchema": [],
       "aggSeriesLimitReached": false,
       "aggType": "",
       "arguments": {},
       "columnCustomDisplayInfos": {},
       "data": [],
       "datasetInfos": [],
       "dbfsResultPath": null,
       "isJsonSchema": true,
       "metadata": {},
       "overflow": false,
       "plotOptions": {
        "customPlotOptions": {},
        "displayType": "table",
        "pivotAggregation": null,
        "pivotColumns": null,
        "xColumns": null,
        "yColumns": null
       },
       "removedWidgets": [],
       "schema": [
        {
         "metadata": "{}",
         "name": "Name",
         "type": "\"string\""
        },
        {
         "metadata": "{}",
         "name": "Percent Change 1H",
         "type": "\"string\""
        },
        {
         "metadata": "{}",
         "name": "Percent Change 24H",
         "type": "\"string\""
        }
       ],
       "type": "table"
      }
     },
     "output_type": "display_data"
    }
   ],
   "source": [
    "%sql\n",
    "SELECT Name, \"Percent Change 1H\", \"Percent Change 24H\"\n",
    "FROM coinmarketcap\n",
    "WHERE \"Percent Change 1H\" > 0 AND \"Percent Change 24H\" > 0;\n"
   ]
  },
  {
   "cell_type": "code",
   "execution_count": 0,
   "metadata": {
    "application/vnd.databricks.v1+cell": {
     "cellMetadata": {
      "byteLimit": 2048000,
      "implicitDf": true,
      "rowLimit": 10000
     },
     "inputWidgets": {},
     "nuid": "704e79eb-425a-4cb8-96c5-6a25836e404d",
     "showTitle": true,
     "title": "Calculate the Total Volume Traded in the Last 24 Hours for Cryptocurrencies with Market Cap Above $100 Billion"
    }
   },
   "outputs": [
    {
     "output_type": "display_data",
     "data": {
      "text/html": [
       "<style scoped>\n",
       "  .table-result-container {\n",
       "    max-height: 300px;\n",
       "    overflow: auto;\n",
       "  }\n",
       "  table, th, td {\n",
       "    border: 1px solid black;\n",
       "    border-collapse: collapse;\n",
       "  }\n",
       "  th, td {\n",
       "    padding: 5px;\n",
       "  }\n",
       "  th {\n",
       "    text-align: left;\n",
       "  }\n",
       "</style><div class='table-result-container'><table class='table-result'><thead style='background-color: white'><tr><th>Total Volume</th></tr></thead><tbody><tr><td>9.0159245163E10</td></tr></tbody></table></div>"
      ]
     },
     "metadata": {
      "application/vnd.databricks.v1+output": {
       "addedWidgets": {},
       "aggData": [],
       "aggError": "",
       "aggOverflow": false,
       "aggSchema": [],
       "aggSeriesLimitReached": false,
       "aggType": "",
       "arguments": {},
       "columnCustomDisplayInfos": {},
       "data": [
        [
         9.0159245163E10
        ]
       ],
       "datasetInfos": [],
       "dbfsResultPath": null,
       "isJsonSchema": true,
       "metadata": {},
       "overflow": false,
       "plotOptions": {
        "customPlotOptions": {},
        "displayType": "table",
        "pivotAggregation": null,
        "pivotColumns": null,
        "xColumns": null,
        "yColumns": null
       },
       "removedWidgets": [],
       "schema": [
        {
         "metadata": "{}",
         "name": "Total Volume",
         "type": "\"double\""
        }
       ],
       "type": "table"
      }
     },
     "output_type": "display_data"
    }
   ],
   "source": [
    "%sql\n",
    "SELECT SUM(`Volume 24H($)`) AS `Total Volume`\n",
    "FROM coinmarketcap\n",
    "WHERE `Market Cap($)` > 1e11;"
   ]
  },
  {
   "cell_type": "code",
   "execution_count": 0,
   "metadata": {
    "application/vnd.databricks.v1+cell": {
     "cellMetadata": {
      "byteLimit": 2048000,
      "rowLimit": 10000
     },
     "inputWidgets": {},
     "nuid": "48d690bf-0aa8-4476-9a72-294af10e31eb",
     "showTitle": false,
     "title": ""
    }
   },
   "outputs": [
    {
     "output_type": "stream",
     "name": "stdout",
     "output_type": "stream",
     "text": [
      "Python interpreter will be restarted.\nCollecting sqlalchemy\n  Downloading SQLAlchemy-2.0.35-cp39-cp39-manylinux_2_17_x86_64.manylinux2014_x86_64.whl (3.1 MB)\nCollecting typing-extensions>=4.6.0\n  Downloading typing_extensions-4.12.2-py3-none-any.whl (37 kB)\nCollecting greenlet!=0.4.17\n  Downloading greenlet-3.1.1-cp39-cp39-manylinux_2_24_x86_64.manylinux_2_28_x86_64.whl (597 kB)\nInstalling collected packages: typing-extensions, greenlet, sqlalchemy\n  Attempting uninstall: typing-extensions\n    Found existing installation: typing-extensions 4.1.1\n    Not uninstalling typing-extensions at /databricks/python3/lib/python3.9/site-packages, outside environment /local_disk0/.ephemeral_nfs/envs/pythonEnv-9ad89c65-aa1c-40c0-9d0b-67668e60399a\n    Can't uninstall 'typing-extensions'. No files were found to uninstall.\nSuccessfully installed greenlet-3.1.1 sqlalchemy-2.0.35 typing-extensions-4.12.2\nPython interpreter will be restarted.\n"
     ]
    }
   ],
   "source": [
    "%pip install sqlalchemy"
   ]
  },
  {
   "cell_type": "code",
   "execution_count": 0,
   "metadata": {
    "application/vnd.databricks.v1+cell": {
     "cellMetadata": {
      "byteLimit": 2048000,
      "rowLimit": 10000
     },
     "inputWidgets": {},
     "nuid": "9c4fc539-6e3c-434b-bab0-995d66ba4307",
     "showTitle": false,
     "title": ""
    }
   },
   "outputs": [],
   "source": [
    "from sqlalchemy import create_engine"
   ]
  },
  {
   "cell_type": "code",
   "execution_count": 0,
   "metadata": {
    "application/vnd.databricks.v1+cell": {
     "cellMetadata": {
      "byteLimit": 2048000,
      "implicitDf": true,
      "rowLimit": 10000
     },
     "inputWidgets": {},
     "nuid": "aac4a7d6-30c2-46a2-96de-bb7769e07e86",
     "showTitle": false,
     "title": ""
    }
   },
   "outputs": [
    {
     "output_type": "display_data",
     "data": {
      "text/html": [
       "<style scoped>\n",
       "  .table-result-container {\n",
       "    max-height: 300px;\n",
       "    overflow: auto;\n",
       "  }\n",
       "  table, th, td {\n",
       "    border: 1px solid black;\n",
       "    border-collapse: collapse;\n",
       "  }\n",
       "  th, td {\n",
       "    padding: 5px;\n",
       "  }\n",
       "  th {\n",
       "    text-align: left;\n",
       "  }\n",
       "</style><div class='table-result-container'><table class='table-result'><thead style='background-color: white'><tr></tr></thead><tbody></tbody></table></div>"
      ]
     },
     "metadata": {
      "application/vnd.databricks.v1+output": {
       "addedWidgets": {},
       "aggData": [],
       "aggError": "",
       "aggOverflow": false,
       "aggSchema": [],
       "aggSeriesLimitReached": false,
       "aggType": "",
       "arguments": {},
       "columnCustomDisplayInfos": {},
       "data": [],
       "datasetInfos": [],
       "dbfsResultPath": null,
       "isJsonSchema": true,
       "metadata": {},
       "overflow": false,
       "plotOptions": {
        "customPlotOptions": {},
        "displayType": "table",
        "pivotAggregation": null,
        "pivotColumns": null,
        "xColumns": null,
        "yColumns": null
       },
       "removedWidgets": [],
       "schema": [],
       "type": "table"
      }
     },
     "output_type": "display_data"
    }
   ],
   "source": [
    "%sql\n",
    "create database if not exists project"
   ]
  },
  {
   "cell_type": "code",
   "execution_count": 0,
   "metadata": {
    "application/vnd.databricks.v1+cell": {
     "cellMetadata": {
      "byteLimit": 2048000,
      "rowLimit": 10000
     },
     "inputWidgets": {},
     "nuid": "fbbfa8d5-bd83-4fa5-9cd0-1696a8a80cd8",
     "showTitle": false,
     "title": ""
    }
   },
   "outputs": [],
   "source": [
    "database_name = 'project'"
   ]
  },
  {
   "cell_type": "code",
   "execution_count": 0,
   "metadata": {
    "application/vnd.databricks.v1+cell": {
     "cellMetadata": {
      "byteLimit": 2048000,
      "rowLimit": 10000
     },
     "inputWidgets": {},
     "nuid": "b6a8036f-2578-4982-860d-407576e066ba",
     "showTitle": false,
     "title": ""
    }
   },
   "outputs": [],
   "source": [
    "# Example of loading data into a DataFrame\n",
    "spark_df = spark.read.table(\"coinmarketcap\")\n"
   ]
  },
  {
   "cell_type": "code",
   "execution_count": 0,
   "metadata": {
    "application/vnd.databricks.v1+cell": {
     "cellMetadata": {
      "byteLimit": 2048000,
      "rowLimit": 10000
     },
     "inputWidgets": {},
     "nuid": "b052869a-b4cc-48fd-b6c3-a8b4e3bb2d37",
     "showTitle": false,
     "title": ""
    }
   },
   "outputs": [],
   "source": [
    "# Example: Replacing invalid characters\n",
    "clean_columns = [col.replace(\" \", \"_\").replace(\",\", \"\").replace(\";\", \"\").replace(\"(\", \"\").replace(\")\", \"\") for col in spark_df.columns]\n",
    "spark_df = spark_df.toDF(*clean_columns)\n"
   ]
  },
  {
   "cell_type": "code",
   "execution_count": 0,
   "metadata": {
    "application/vnd.databricks.v1+cell": {
     "cellMetadata": {
      "byteLimit": 2048000,
      "rowLimit": 10000
     },
     "inputWidgets": {},
     "nuid": "23b3ccea-9101-4f32-9aac-05e1fd92d3db",
     "showTitle": false,
     "title": ""
    }
   },
   "outputs": [],
   "source": [
    "# Replace 'database_name' with your actual database name\n",
    "spark_df.write.mode(\"overwrite\").saveAsTable(\"project.coinmarketcap\")\n"
   ]
  },
  {
   "cell_type": "code",
   "execution_count": 0,
   "metadata": {
    "application/vnd.databricks.v1+cell": {
     "cellMetadata": {
      "byteLimit": 2048000,
      "implicitDf": true,
      "rowLimit": 10000
     },
     "inputWidgets": {},
     "nuid": "82285ce8-536b-4a8c-89d5-f7bf24287747",
     "showTitle": false,
     "title": ""
    }
   },
   "outputs": [
    {
     "output_type": "display_data",
     "data": {
      "text/html": [
       "<style scoped>\n",
       "  .table-result-container {\n",
       "    max-height: 300px;\n",
       "    overflow: auto;\n",
       "  }\n",
       "  table, th, td {\n",
       "    border: 1px solid black;\n",
       "    border-collapse: collapse;\n",
       "  }\n",
       "  th, td {\n",
       "    padding: 5px;\n",
       "  }\n",
       "  th {\n",
       "    text-align: left;\n",
       "  }\n",
       "</style><div class='table-result-container'><table class='table-result'><thead style='background-color: white'><tr><th>Name</th><th>Price($)</th><th>Percent Change 1H</th><th>Percent Change 24H</th><th>Percent Change 7D</th><th>Market Cap($)</th><th>Volume 24H($)</th></tr></thead><tbody><tr><td>Bitcoin</td><td>64095.59</td><td>0.63</td><td>0.71</td><td>2.65</td><td>1.27E12</td><td>2.4691829672E10</td></tr><tr><td>Ethereum</td><td>2629.8</td><td>0.49</td><td>0.11</td><td>8.18</td><td>3.1649E11</td><td>1.4512490981E10</td></tr><tr><td>Tether</td><td>0.9999</td><td>0.01</td><td>0.0</td><td>0.0</td><td>1.1927E11</td><td>5.095492451E10</td></tr><tr><td>BNB</td><td>595.49</td><td>0.26</td><td>7.06</td><td>0.0</td><td>8.68E10</td><td>1.799597108E9</td></tr><tr><td>Solana</td><td>151.32</td><td>0.49</td><td>0.69</td><td>8.93</td><td>7.094E10</td><td>1.933071312E9</td></tr><tr><td>USDC</td><td>0.9999</td><td>0.0</td><td>0.01</td><td>0.0</td><td>3.608E10</td><td>5.126861211E9</td></tr><tr><td>XRP</td><td>0.589</td><td>0.35</td><td>0.13</td><td>0.92</td><td>3.328E10</td><td>1.03783242E9</td></tr><tr><td>Dogecoin</td><td>0.1143</td><td>0.84</td><td>4.92</td><td>9.33</td><td>1.67E10</td><td>9.46018603E8</td></tr><tr><td>Toncoin</td><td>5.81</td><td>0.23</td><td>2.12</td><td>1.09</td><td>1.473E10</td><td>2.65943439E8</td></tr><tr><td>Cardano</td><td>0.3942</td><td>0.24</td><td>2.9</td><td>13.21</td><td>1.377E10</td><td>3.01992406E8</td></tr></tbody></table></div>"
      ]
     },
     "metadata": {
      "application/vnd.databricks.v1+output": {
       "addedWidgets": {},
       "aggData": [],
       "aggError": "",
       "aggOverflow": false,
       "aggSchema": [],
       "aggSeriesLimitReached": false,
       "aggType": "",
       "arguments": {},
       "columnCustomDisplayInfos": {},
       "data": [
        [
         "Bitcoin",
         64095.59,
         0.63,
         0.71,
         2.65,
         1.27E12,
         2.4691829672E10
        ],
        [
         "Ethereum",
         2629.8,
         0.49,
         0.11,
         8.18,
         3.1649E11,
         1.4512490981E10
        ],
        [
         "Tether",
         0.9999,
         0.01,
         0.0,
         0.0,
         1.1927E11,
         5.095492451E10
        ],
        [
         "BNB",
         595.49,
         0.26,
         7.06,
         0.0,
         8.68E10,
         1.799597108E9
        ],
        [
         "Solana",
         151.32,
         0.49,
         0.69,
         8.93,
         7.094E10,
         1.933071312E9
        ],
        [
         "USDC",
         0.9999,
         0.0,
         0.01,
         0.0,
         3.608E10,
         5.126861211E9
        ],
        [
         "XRP",
         0.589,
         0.35,
         0.13,
         0.92,
         3.328E10,
         1.03783242E9
        ],
        [
         "Dogecoin",
         0.1143,
         0.84,
         4.92,
         9.33,
         1.67E10,
         9.46018603E8
        ],
        [
         "Toncoin",
         5.81,
         0.23,
         2.12,
         1.09,
         1.473E10,
         2.65943439E8
        ],
        [
         "Cardano",
         0.3942,
         0.24,
         2.9,
         13.21,
         1.377E10,
         3.01992406E8
        ]
       ],
       "datasetInfos": [],
       "dbfsResultPath": null,
       "isJsonSchema": true,
       "metadata": {},
       "overflow": false,
       "plotOptions": {
        "customPlotOptions": {},
        "displayType": "table",
        "pivotAggregation": null,
        "pivotColumns": null,
        "xColumns": null,
        "yColumns": null
       },
       "removedWidgets": [],
       "schema": [
        {
         "metadata": "{}",
         "name": "Name",
         "type": "\"string\""
        },
        {
         "metadata": "{}",
         "name": "Price($)",
         "type": "\"double\""
        },
        {
         "metadata": "{}",
         "name": "Percent Change 1H",
         "type": "\"double\""
        },
        {
         "metadata": "{}",
         "name": "Percent Change 24H",
         "type": "\"double\""
        },
        {
         "metadata": "{}",
         "name": "Percent Change 7D",
         "type": "\"double\""
        },
        {
         "metadata": "{}",
         "name": "Market Cap($)",
         "type": "\"double\""
        },
        {
         "metadata": "{}",
         "name": "Volume 24H($)",
         "type": "\"double\""
        }
       ],
       "type": "table"
      }
     },
     "output_type": "display_data"
    }
   ],
   "source": [
    "%sql\n",
    "select * from coinmarketcap;"
   ]
  }
 ],
 "metadata": {
  "application/vnd.databricks.v1+notebook": {
   "dashboards": [],
   "environmentMetadata": null,
   "language": "python",
   "notebookMetadata": {
    "mostRecentlyExecutedCommandWithImplicitDF": {
     "commandId": 999560793152816,
     "dataframes": [
      "_sqldf"
     ]
    },
    "pythonIndentUnit": 4
   },
   "notebookName": "coinmarketcap",
   "widgets": {}
  }
 },
 "nbformat": 4,
 "nbformat_minor": 0
}
